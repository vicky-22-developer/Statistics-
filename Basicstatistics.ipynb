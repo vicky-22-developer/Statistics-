{
  "nbformat": 4,
  "nbformat_minor": 0,
  "metadata": {
    "colab": {
      "provenance": []
    },
    "kernelspec": {
      "name": "python3",
      "display_name": "Python 3"
    },
    "language_info": {
      "name": "python"
    }
  },
  "cells": [
    {
      "cell_type": "markdown",
      "source": [
        "#1: What is the difference between descriptive statistics and inferential statistics? Explain with examples.\n",
        "ans> Descriptive Statistics-- Descriptive statistics is about summarizing and describing the data you already have.\n",
        "Descriptive statistics involve measures like mean, median, and standard deviation, describing the \"what\" of the data\n",
        "Purpose: To provide simple summaries, patterns, or insights without making predictions.\n",
        "Tools Used: Mean, Median, Mode, Standard Deviation, Percentages, Graphs (pie chart, bar chart, histogram, etc.).\n",
        "\n",
        ".Example:\n",
        "Suppose we collected marks of 50 students in a class.\n",
        "Average marks = 72\n",
        "Highest marks = 95\n",
        "Lowest marks = 40\n",
        "Standard deviation = 12\n",
        "\n",
        ">Inferential Statistics-- Inferential statistics is about making predictions, generalizations, or conclusions about a population using data (sample).\n",
        "inferential statistics involve techniques like hypothesis testing and confidence intervals to understand the \"why\" and \"what next\" from data about a larger.\n",
        "Purpose: To infer (draw conclusions) about a large group when we only have data from a small sample.\n",
        "Tools Used: Hypothesis Testing, Confidence Intervals, Regression, ANOVA, Chi-square test, etc.\n",
        "\n",
        "Example:\n",
        "Instead of taking marks of all 10,000 students in a university, we take a random sample of 200 students.\n",
        "If the sample’s average marks = 70,\n",
        "Using inferential statistics, we may estimate that the average marks of all 10,000 students is around 70 (±2 with 95% confidence).\n",
        "\n",
        "#2:What is sampling in statistics? Explain the differences between random and stratified sampling.\n",
        "ans> Sampling is the process of selecting a small group (sample) from a larger group (population) so that we can study the sample and make conclusions about the entire population.\n",
        "\n",
        ".Example:\n",
        "Instead of checking the blood sugar level of all people in a city, doctors may take a sample of 500 people to study the health condition.\n",
        "\n",
        ">Random Sampling--\n",
        "Meaning: Every member of the population has an equal chance of being selected.\n",
        "Process: Selection is done completely by chance (like lottery or using random numbers).\n",
        "Advantage: Simple, unbiased, represents the population fairly (if sample is large enough).\n",
        "Disadvantage: May not represent subgroups (like gender, age, income levels) accurately.\n",
        ".Example: Choosing 100 students randomly from a university of 10,000 students.\n",
        "\n",
        ">Stratified Sampling--\n",
        "Meaning: The population is first divided into subgroups (strata) based on characteristics (like gender, age, income, department, etc.). Then, a random sample is taken from each subgroup.\n",
        "Purpose: To make sure that every subgroup is properly represented.\n",
        "Advantage: More accurate, reduces sampling bias, especially when the population has different categories.\n",
        "Disadvantage: More complex to organize.\n",
        "\n",
        ".Example: In the same university of 10,000 students:\n",
        "6,000 males, 4,000 females.\n",
        "If we need 100 students: we take 60 males and 40 females randomly.\n",
        "This ensures both genders are represented proportionally.\n",
        "\n",
        "#3: Define mean, median, and mode. Explain why these measures of central tendency are important.\n",
        "ans>Mean-->The sum of all data values divided by the number of values.\n",
        "Formula:\n",
        "Mean= Number of observations by Sum of all observations\n",
        "Example-- the mean of the numbers 4, 5, 6, 3, and 7 is found by adding them (4 + 5 + 6 + 3 + 7 = 25) and then dividing by the five numbers (25 ÷ 5 = 5).\n",
        ">Median-->The middle value when data is arranged in ascending or descending order.\n",
        "If number of values = odd, median = middle value.\n",
        "If number of values = even, median = average of two middle values.\n",
        "Example: Data = {10, 20, 30, 40, 50} → Median = 30 (middle value).\n",
        "Data = {10, 20, 30, 40} → Median = (20+30)/2 = 25.\n",
        ">Mode-->The value that occurs most frequently in the dataset.\n",
        "Example: Data = {10, 20, 20, 30, 40, 20, 50} → Mode = 20 (appears 3 times).\n",
        "\t​\n",
        "#4:Explain skewness and kurtosis. What does a positive skew imply about the data?\n",
        "ans> Skewness measures the asymmetry of a data distribution around its mean.\n",
        "\n",
        "Positive Skew (Right Skew): Tail is stretched to the right side (towards higher values).\n",
        "Mean > Median > Mode\n",
        "Example: Income distribution (a few people earn extremely high salaries).\n",
        "Negative Skew (Left Skew): Tail is stretched to the left side (towards lower values).\n",
        "Mean < Median < Mode\n",
        "Example: Age of retirement (most retire at 60–65, but a few retire earlier).\n",
        "\n",
        ">Kurtosis measures the “tailedness” or peakedness of a distribution. It tells us how extreme values (outliers) are distributed.\n",
        "\n",
        "Platykurtic (Kurtosis < 3): Peak is flat, tails are light → fewer outliers.\n",
        ".Example:\n",
        "Exam scores with many students scoring average → Mesokurtic.\n",
        "Stock market returns (lots of outliers, sudden jumps) → Leptokurtic.\n",
        "Heights of students in a class (less variation) → Platykurtic.\n",
        "\n",
        ">Positive Skew implies:\n",
        "Most data values are small/low, but a few very large values pull the tail to the right.\n",
        "Example: In a company, most employees earn ₹30k–₹50k, but a few managers earn ₹5 lakhs → income data becomes positively skewed.\n"
      ],
      "metadata": {
        "id": "yb1y1RHiXzHJ"
      }
    },
    {
      "cell_type": "code",
      "source": [
        "#5:Implement a Python program to compute the mean, median, and mode of a given list of numbers. numbers = [12, 15, 12, 18, 19, 12, 20, 22, 19, 19, 24, 24, 24, 26, 28]\n",
        "import numpy as np\n",
        "numbers = [12, 15, 12, 18, 19, 12, 20, 22, 19, 19, 24, 24, 24, 26, 28]\n",
        "\n",
        "mean = np.mean(numbers)\n",
        "median = np.median(numbers)\n",
        "\n",
        "print(\"Mean:\",mean)\n",
        "print(\"Meadian:\",median)"
      ],
      "metadata": {
        "colab": {
          "base_uri": "https://localhost:8080/",
          "height": 211
        },
        "id": "lfkOqavyd3Gh",
        "outputId": "65c7b426-d420-4170-a3d5-8f347a58733c"
      },
      "execution_count": null,
      "outputs": [
        {
          "output_type": "stream",
          "name": "stdout",
          "text": [
            "Mean: 19.6\n",
            "Meadian: 19.0\n"
          ]
        },
        {
          "output_type": "error",
          "ename": "NameError",
          "evalue": "name 'mode' is not defined",
          "traceback": [
            "\u001b[0;31m---------------------------------------------------------------------------\u001b[0m",
            "\u001b[0;31mNameError\u001b[0m                                 Traceback (most recent call last)",
            "\u001b[0;32m/tmp/ipython-input-3019266793.py\u001b[0m in \u001b[0;36m<cell line: 0>\u001b[0;34m()\u001b[0m\n\u001b[1;32m      8\u001b[0m \u001b[0mprint\u001b[0m\u001b[0;34m(\u001b[0m\u001b[0;34m\"Mean:\"\u001b[0m\u001b[0;34m,\u001b[0m\u001b[0mmean\u001b[0m\u001b[0;34m)\u001b[0m\u001b[0;34m\u001b[0m\u001b[0;34m\u001b[0m\u001b[0m\n\u001b[1;32m      9\u001b[0m \u001b[0mprint\u001b[0m\u001b[0;34m(\u001b[0m\u001b[0;34m\"Meadian:\"\u001b[0m\u001b[0;34m,\u001b[0m\u001b[0mmedian\u001b[0m\u001b[0;34m)\u001b[0m\u001b[0;34m\u001b[0m\u001b[0;34m\u001b[0m\u001b[0m\n\u001b[0;32m---> 10\u001b[0;31m \u001b[0mprint\u001b[0m\u001b[0;34m(\u001b[0m\u001b[0;34m\"Mode:\"\u001b[0m\u001b[0;34m,\u001b[0m\u001b[0mmode\u001b[0m\u001b[0;34m)\u001b[0m\u001b[0;34m\u001b[0m\u001b[0;34m\u001b[0m\u001b[0m\n\u001b[0m",
            "\u001b[0;31mNameError\u001b[0m: name 'mode' is not defined"
          ]
        }
      ]
    },
    {
      "cell_type": "code",
      "source": [
        "#Mode\n",
        "from scipy import stats\n",
        "numbers = [12, 15, 12, 18, 19, 12, 20, 22, 19, 19, 24, 24, 24, 26, 28]\n",
        "mode = stats.mode(numbers)\n",
        "\n",
        "print('Mode:',mode)"
      ],
      "metadata": {
        "colab": {
          "base_uri": "https://localhost:8080/"
        },
        "id": "34GCRVG1f3LU",
        "outputId": "0b76dcc8-412f-49c2-911d-7dae2e0dbe4b"
      },
      "execution_count": null,
      "outputs": [
        {
          "output_type": "stream",
          "name": "stdout",
          "text": [
            "Mode: ModeResult(mode=np.int64(12), count=np.int64(3))\n"
          ]
        }
      ]
    },
    {
      "cell_type": "code",
      "source": [
        "#6: Compute the covariance and correlation coefficient between the following two datasets provided as lists in Python:\n",
        "list_x = [10, 20, 30, 40, 50]\n",
        "list_y = [15, 25, 35, 45, 60]\n",
        "\n",
        "#Cov(X,Y)=N∑i=1N​(Xi​−μX​)(Yi​−μY​)​\n",
        "\n",
        "#mean of x & y\n",
        "import numpy as np\n",
        "x = [10, 20, 30, 40, 50]\n",
        "y = [15, 25, 35, 45, 60]\n",
        "covariance = np.cov(x, y, bias=True)[0][1]\n",
        "correlation = np.corrcoef(x, y)[0][1]\n",
        "\n",
        "print(\"Covariance:\", covariance)\n",
        "print(\"Correlation:\", correlation)\n",
        "\n"
      ],
      "metadata": {
        "colab": {
          "base_uri": "https://localhost:8080/"
        },
        "id": "KGuMCkJ6gidp",
        "outputId": "76beafff-b21f-4d3e-aa25-25ee68af3d87"
      },
      "execution_count": 2,
      "outputs": [
        {
          "output_type": "stream",
          "name": "stdout",
          "text": [
            "Covariance: 220.0\n",
            "Correlation: 0.995893206467704\n"
          ]
        }
      ]
    },
    {
      "cell_type": "code",
      "source": [
        "#7:: Write a Python script to draw a boxplot for the following numeric list and identify its outliers. Explain the result:\n",
        "import matplotlib.pyplot as plt\n",
        "data = [12, 14, 14, 15, 18, 19, 19, 21, 22, 22, 23, 23, 24, 26, 29, 35]\n",
        "plt.boxplot(data)\n",
        "plt.title(\"Boxplot\")\n",
        "plt.show()\n",
        "\n",
        "Q1 = np.percentile(data, 25)\n",
        "Q3 = np.percentile(data, 75)\n",
        "IQR = Q3 - Q1\n",
        "lower = Q1 - 1.5 * IQR\n",
        "upper = Q3 + 1.5 * IQR\n",
        "\n",
        "outliers = [x for x in data if x < lower or x > upper]\n",
        "print(\"Outliers:\", outliers)"
      ],
      "metadata": {
        "colab": {
          "base_uri": "https://localhost:8080/",
          "height": 469
        },
        "id": "FdM-cVXZyJMo",
        "outputId": "09d4364b-6038-480b-f0ef-d2fdf8ce8e04"
      },
      "execution_count": 4,
      "outputs": [
        {
          "output_type": "display_data",
          "data": {
            "text/plain": [
              "<Figure size 640x480 with 1 Axes>"
            ],
            "image/png": "[encoded data removed]"
          },
          "metadata": {}
        },
        {
          "output_type": "stream",
          "name": "stdout",
          "text": [
            "Outliers: [35]\n"
          ]
        }
      ]
    },
    {
      "cell_type": "code",
      "source": [
        "#8:8: You are working as a data analyst in an e-commerce company. The marketing team wants to know if there is a relationship between advertising spend and daily sales.\n",
        "#● Explain how you would use covariance and correlation to explore this relationship.\n",
        "#● Write Python code to compute the correlation between the two lists:\n",
        "advertising_spend = [200, 250, 300, 400, 500]\n",
        "daily_sales = [2200, 2450, 2750, 3200, 4000]\n",
        "\n",
        "import numpy as np\n",
        "\n",
        "advertising_spend = [200, 250, 300, 400, 500]\n",
        "daily_sales = [2200, 2450, 2750, 3200, 4000]\n",
        "\n",
        "cov_matrix = np.cov(advertising_spend, daily_sales)\n",
        "print(\"Covariance Matrix:\\n\", cov_matrix)\n",
        "\n",
        "corr = np.corrcoef(advertising_spend, daily_sales)\n",
        "print(\"Correlation Matrix:\\n\", corr)\n"
      ],
      "metadata": {
        "colab": {
          "base_uri": "https://localhost:8080/"
        },
        "id": "QsBSQGNKzvRd",
        "outputId": "e30c9bcf-3916-4b8b-aa62-39980a87967b"
      },
      "execution_count": 5,
      "outputs": [
        {
          "output_type": "stream",
          "name": "stdout",
          "text": [
            "Covariance Matrix:\n",
            " [[ 14500.  84875.]\n",
            " [ 84875. 503250.]]\n",
            "Correlation Matrix:\n",
            " [[1.         0.99358241]\n",
            " [0.99358241 1.        ]]\n"
          ]
        }
      ]
    },
    {
      "cell_type": "code",
      "source": [
        "#9:9: Your team has collected customer satisfaction survey data on a scale of 1-10 and wants to understand its distribution before launching a new product.\n",
        "#● Explain which summary statistics and visualizations (e.g. mean, standard deviation, histogram) you’d use.\n",
        "#● Write Python code to create a histogram using Matplotlib for the survey data:\n",
        "survey_scores = [7, 8, 5, 9, 6, 7, 8, 9, 10, 4, 7, 6, 9, 8, 7]\n",
        "\n",
        "import matplotlib.pyplot as plt\n",
        "\n",
        "survey_scores = [7, 8, 5, 9, 6, 7, 8, 9, 10, 4, 7, 6, 9, 8, 7]\n",
        "\n",
        "plt.hist(survey_scores, bins=6, edgecolor='black')\n",
        "plt.title(\"Customer Satisfaction Survey Distribution\")\n",
        "plt.xlabel(\"Satisfaction Score (1-10)\")\n",
        "plt.ylabel(\"Frequency\")\n",
        "plt.show()\n",
        "\n"
      ],
      "metadata": {
        "colab": {
          "base_uri": "https://localhost:8080/",
          "height": 472
        },
        "id": "9p8GZk9V0NYz",
        "outputId": "d5d93fa4-1a3b-4467-84bc-f59419a5a334"
      },
      "execution_count": 6,
      "outputs": [
        {
          "output_type": "display_data",
          "data": {
            "text/plain": [
              "<Figure size 640x480 with 1 Axes>"
            ],
            "image/png": "[encoded data removed]"
          },
          "metadata": {}
        }
      ]
    },
    {
      "cell_type": "markdown",
      "source": [],
      "metadata": {
        "id": "Bp7AF9jTXtME"
      }
    }
  ]
}